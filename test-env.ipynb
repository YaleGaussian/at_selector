{
 "cells": [
  {
   "cell_type": "markdown",
   "metadata": {},
   "source": [
    "本文件测试 selenium 环境是否准备就绪，包含 Chrome 和 Firefox 两种浏览器。\n",
    "\n",
    "提示：点击单元格，按 Ctrl + ENTER 即可执行测试。"
   ]
  },
  {
   "cell_type": "code",
   "execution_count": 4,
   "metadata": {
    "collapsed": false
   },
   "outputs": [],
   "source": [
    "# 本单元格代码测试 Chrome 浏览器。\n",
    "# \n",
    "# 正常情况下，执行完成后您将会看到百度搜索结果页面（关键词 \"chrome\"）。\n",
    "\n",
    "from selenium import webdriver\n",
    "from selenium.webdriver.common.keys import Keys\n",
    "\n",
    "\n",
    "driver = webdriver.Chrome()\n",
    "driver.get(\"https://www.baidu.com\")\n",
    "elem = driver.find_element_by_id(\"kw\")\n",
    "elem.clear()\n",
    "elem.send_keys(\"chrome\")\n",
    "elem.send_keys(Keys.RETURN)\n",
    "driver.close()"
   ]
  },
  {
   "cell_type": "code",
   "execution_count": 3,
   "metadata": {
    "collapsed": true
   },
   "outputs": [],
   "source": [
    "# 本单元格代码测试 Firefox 浏览器。\n",
    "# \n",
    "# 正常情况下，执行完成后您将会看到百度搜索结果页面（关键词 \"firefox\"）。\n",
    "\n",
    "from selenium import webdriver\n",
    "from selenium.webdriver.common.keys import Keys\n",
    "\n",
    "\n",
    "driver = webdriver.Firefox()\n",
    "driver.get(\"https://www.baidu.com\")\n",
    "elem = driver.find_element_by_id(\"kw\")\n",
    "elem.clear()\n",
    "elem.send_keys(\"firefox\")\n",
    "elem.send_keys(Keys.RETURN)\n",
    "driver.close()"
   ]
  }
 ],
 "metadata": {
  "anaconda-cloud": {},
  "kernelspec": {
   "display_name": "Python [default]",
   "language": "python",
   "name": "python2"
  },
  "language_info": {
   "codemirror_mode": {
    "name": "ipython",
    "version": 2
   },
   "file_extension": ".py",
   "mimetype": "text/x-python",
   "name": "python",
   "nbconvert_exporter": "python",
   "pygments_lexer": "ipython2",
   "version": "2.7.12"
  }
 },
 "nbformat": 4,
 "nbformat_minor": 2
}
